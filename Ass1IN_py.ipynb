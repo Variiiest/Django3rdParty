{
  "nbformat": 4,
  "nbformat_minor": 0,
  "metadata": {
    "colab": {
      "provenance": [],
      "authorship_tag": "ABX9TyPvVluAFBo7GNymOaja2WpQ",
      "include_colab_link": true
    },
    "kernelspec": {
      "name": "python3",
      "display_name": "Python 3"
    },
    "language_info": {
      "name": "python"
    }
  },
  "cells": [
    {
      "cell_type": "markdown",
      "metadata": {
        "id": "view-in-github",
        "colab_type": "text"
      },
      "source": [
        "<a href=\"https://colab.research.google.com/github/Variiiest/Django3rdParty/blob/main/Ass1IN_py.ipynb\" target=\"_parent\"><img src=\"https://colab.research.google.com/assets/colab-badge.svg\" alt=\"Open In Colab\"/></a>"
      ]
    },
    {
      "cell_type": "markdown",
      "source": [
        "## Find out all the types of error that we have encountered in our lecture and why?"
      ],
      "metadata": {
        "id": "pWHn7l_x_xz1"
      }
    },
    {
      "cell_type": "code",
      "execution_count": 5,
      "metadata": {
        "colab": {
          "base_uri": "https://localhost:8080/",
          "height": 219
        },
        "id": "FnHN_aTi_W1i",
        "outputId": "e1a10449-3af5-4595-82aa-98101db99208"
      },
      "outputs": [
        {
          "output_type": "error",
          "ename": "NameError",
          "evalue": "ignored",
          "traceback": [
            "\u001b[0;31m---------------------------------------------------------------------------\u001b[0m",
            "\u001b[0;31mNameError\u001b[0m                                 Traceback (most recent call last)",
            "\u001b[0;32m<ipython-input-5-acb7a425e62d>\u001b[0m in \u001b[0;36m<module>\u001b[0;34m\u001b[0m\n\u001b[1;32m      5\u001b[0m \u001b[0;31m#both are the seprated variable , we can't use varish , Varish as vArIsH. if we try to find the value of vARISH that means this variable doesn't exist .\u001b[0m\u001b[0;34m\u001b[0m\u001b[0;34m\u001b[0m\u001b[0;34m\u001b[0m\u001b[0m\n\u001b[1;32m      6\u001b[0m \u001b[0;31m#THis will give error.\u001b[0m\u001b[0;34m\u001b[0m\u001b[0;34m\u001b[0m\u001b[0;34m\u001b[0m\u001b[0m\n\u001b[0;32m----> 7\u001b[0;31m \u001b[0mprint\u001b[0m\u001b[0;34m(\u001b[0m\u001b[0mvARISH\u001b[0m\u001b[0;34m)\u001b[0m\u001b[0;34m\u001b[0m\u001b[0;34m\u001b[0m\u001b[0m\n\u001b[0m",
            "\u001b[0;31mNameError\u001b[0m: name 'vARISH' is not defined"
          ]
        }
      ],
      "source": [
        "#variable case sensitive \n",
        "varish=\" 123\"\n",
        "Varish= \"234\" \n",
        "\n",
        "#both are the seprated variable , we can't use varish , Varish as vArIsH. if we try to find the value of vARISH that means this variable doesn't exist . \n",
        "#THis will give error.\n",
        "print(vARISH)"
      ]
    },
    {
      "cell_type": "code",
      "source": [
        "#Reserved Keyword\n",
        "del=3\n",
        "#As del is reserved keyword , so that we can't use as variable.\n",
        "\n",
        "#Note: print is not keyword . Because we can't assign anything to reserved keyword and as in lecture , print was assigned to something "
      ],
      "metadata": {
        "colab": {
          "base_uri": "https://localhost:8080/",
          "height": 132
        },
        "id": "43JK0swMCdbU",
        "outputId": "961fdb91-206a-4392-e0e6-894c4dfbc5fb"
      },
      "execution_count": 9,
      "outputs": [
        {
          "output_type": "error",
          "ename": "SyntaxError",
          "evalue": "ignored",
          "traceback": [
            "\u001b[0;36m  File \u001b[0;32m\"<ipython-input-9-3c027e8d0ad3>\"\u001b[0;36m, line \u001b[0;32m2\u001b[0m\n\u001b[0;31m    del=3\u001b[0m\n\u001b[0m       ^\u001b[0m\n\u001b[0;31mSyntaxError\u001b[0m\u001b[0;31m:\u001b[0m invalid syntax\n"
          ]
        }
      ]
    },
    {
      "cell_type": "code",
      "source": [
        "def func(a):\n",
        "  return a\n",
        "\n",
        "func= 3\n",
        "print(func(func))\n",
        "\n",
        "#Now , func is assigned , that's why func is not working."
      ],
      "metadata": {
        "colab": {
          "base_uri": "https://localhost:8080/",
          "height": 219
        },
        "id": "NA9n7zrzDkG4",
        "outputId": "eb758fd1-6552-4f48-d5a2-b2960c1d84c3"
      },
      "execution_count": 10,
      "outputs": [
        {
          "output_type": "error",
          "ename": "TypeError",
          "evalue": "ignored",
          "traceback": [
            "\u001b[0;31m---------------------------------------------------------------------------\u001b[0m",
            "\u001b[0;31mTypeError\u001b[0m                                 Traceback (most recent call last)",
            "\u001b[0;32m<ipython-input-10-a61735b4b7d5>\u001b[0m in \u001b[0;36m<module>\u001b[0;34m\u001b[0m\n\u001b[1;32m      3\u001b[0m \u001b[0;34m\u001b[0m\u001b[0m\n\u001b[1;32m      4\u001b[0m \u001b[0mfunc\u001b[0m\u001b[0;34m=\u001b[0m \u001b[0;36m3\u001b[0m\u001b[0;34m\u001b[0m\u001b[0;34m\u001b[0m\u001b[0m\n\u001b[0;32m----> 5\u001b[0;31m \u001b[0mprint\u001b[0m\u001b[0;34m(\u001b[0m\u001b[0mfunc\u001b[0m\u001b[0;34m(\u001b[0m\u001b[0mfunc\u001b[0m\u001b[0;34m)\u001b[0m\u001b[0;34m)\u001b[0m\u001b[0;34m\u001b[0m\u001b[0;34m\u001b[0m\u001b[0m\n\u001b[0m\u001b[1;32m      6\u001b[0m \u001b[0;34m\u001b[0m\u001b[0m\n",
            "\u001b[0;31mTypeError\u001b[0m: 'int' object is not callable"
          ]
        }
      ]
    },
    {
      "cell_type": "code",
      "source": [
        "#Operations \n",
        "\n",
        "a= \"Aditya\"\n",
        "b= \"Aditi\"\n",
        "print(a+b)\n",
        "print(a%2) #it will generate error\n",
        "print(a-b)# It will generate error\n",
        "\n"
      ],
      "metadata": {
        "colab": {
          "base_uri": "https://localhost:8080/",
          "height": 254
        },
        "id": "_V5Y2Uz2E9pN",
        "outputId": "163f3801-423e-481c-b8e1-381dd2d427b7"
      },
      "execution_count": 16,
      "outputs": [
        {
          "output_type": "stream",
          "name": "stdout",
          "text": [
            "AdityaAditi\n"
          ]
        },
        {
          "output_type": "error",
          "ename": "TypeError",
          "evalue": "ignored",
          "traceback": [
            "\u001b[0;31m---------------------------------------------------------------------------\u001b[0m",
            "\u001b[0;31mTypeError\u001b[0m                                 Traceback (most recent call last)",
            "\u001b[0;32m<ipython-input-16-4f15c4923140>\u001b[0m in \u001b[0;36m<module>\u001b[0;34m\u001b[0m\n\u001b[1;32m      4\u001b[0m \u001b[0mb\u001b[0m\u001b[0;34m=\u001b[0m \u001b[0;34m\"Aditi\"\u001b[0m\u001b[0;34m\u001b[0m\u001b[0;34m\u001b[0m\u001b[0m\n\u001b[1;32m      5\u001b[0m \u001b[0mprint\u001b[0m\u001b[0;34m(\u001b[0m\u001b[0ma\u001b[0m\u001b[0;34m+\u001b[0m\u001b[0mb\u001b[0m\u001b[0;34m)\u001b[0m\u001b[0;34m\u001b[0m\u001b[0;34m\u001b[0m\u001b[0m\n\u001b[0;32m----> 6\u001b[0;31m \u001b[0mprint\u001b[0m\u001b[0;34m(\u001b[0m\u001b[0ma\u001b[0m\u001b[0;34m%\u001b[0m\u001b[0;36m2\u001b[0m\u001b[0;34m)\u001b[0m\u001b[0;34m\u001b[0m\u001b[0;34m\u001b[0m\u001b[0m\n\u001b[0m\u001b[1;32m      7\u001b[0m \u001b[0mprint\u001b[0m\u001b[0;34m(\u001b[0m\u001b[0ma\u001b[0m\u001b[0;34m-\u001b[0m\u001b[0mb\u001b[0m\u001b[0;34m)\u001b[0m\u001b[0;31m# It will generate error\u001b[0m\u001b[0;34m\u001b[0m\u001b[0;34m\u001b[0m\u001b[0m\n\u001b[1;32m      8\u001b[0m \u001b[0;34m\u001b[0m\u001b[0m\n",
            "\u001b[0;31mTypeError\u001b[0m: not all arguments converted during string formatting"
          ]
        }
      ]
    },
    {
      "cell_type": "code",
      "source": [
        "# int \"AB\" # This was in lecture as collab using python 3, it is not valid\n",
        "int('Ab') # We can't convert string in base 10"
      ],
      "metadata": {
        "colab": {
          "base_uri": "https://localhost:8080/",
          "height": 185
        },
        "id": "jt-5MPUZFtTR",
        "outputId": "66424b08-0abc-4fb9-cd8f-1a06cab0fc62"
      },
      "execution_count": 21,
      "outputs": [
        {
          "output_type": "error",
          "ename": "ValueError",
          "evalue": "ignored",
          "traceback": [
            "\u001b[0;31m---------------------------------------------------------------------------\u001b[0m",
            "\u001b[0;31mValueError\u001b[0m                                Traceback (most recent call last)",
            "\u001b[0;32m<ipython-input-21-54af49810b0e>\u001b[0m in \u001b[0;36m<module>\u001b[0;34m\u001b[0m\n\u001b[1;32m      1\u001b[0m \u001b[0;31m# int \"AB\" # This was in lecture as collab using python 3, it is not valid\u001b[0m\u001b[0;34m\u001b[0m\u001b[0;34m\u001b[0m\u001b[0;34m\u001b[0m\u001b[0m\n\u001b[0;32m----> 2\u001b[0;31m \u001b[0mint\u001b[0m\u001b[0;34m(\u001b[0m\u001b[0;34m'Ab'\u001b[0m\u001b[0;34m)\u001b[0m \u001b[0;31m# We can't convert string in base 10\u001b[0m\u001b[0;34m\u001b[0m\u001b[0;34m\u001b[0m\u001b[0m\n\u001b[0m",
            "\u001b[0;31mValueError\u001b[0m: invalid literal for int() with base 10: 'Ab'"
          ]
        }
      ]
    },
    {
      "cell_type": "code",
      "source": [
        "a= \"10.2\" \n",
        "print(float(a)) # we can convert this to float but can not convert in int"
      ],
      "metadata": {
        "colab": {
          "base_uri": "https://localhost:8080/"
        },
        "id": "IvYLUSmDGtF2",
        "outputId": "c95cc1a0-5acd-45ee-b460-840c57f9f80e"
      },
      "execution_count": 25,
      "outputs": [
        {
          "output_type": "stream",
          "name": "stdout",
          "text": [
            "10.2\n"
          ]
        }
      ]
    },
    {
      "cell_type": "markdown",
      "source": [],
      "metadata": {
        "id": "nAmIDXChKrfI"
      }
    },
    {
      "cell_type": "markdown",
      "source": [
        "#Take input A and B and print their sum, mul, div, square of the nos."
      ],
      "metadata": {
        "id": "9OOVs6MnKrqc"
      }
    },
    {
      "cell_type": "code",
      "source": [
        "a= int(input())\n",
        "b= int(input())\n",
        "print(a+b)\n",
        "print(a*b)\n",
        "print(a/b)\n",
        "print(a*a, b*b)"
      ],
      "metadata": {
        "colab": {
          "base_uri": "https://localhost:8080/"
        },
        "id": "HxfGj-zuKuV4",
        "outputId": "16a9d1e4-2b97-4985-f693-6210572179d8"
      },
      "execution_count": 27,
      "outputs": [
        {
          "output_type": "stream",
          "name": "stdout",
          "text": [
            "5\n",
            "5\n",
            "10\n",
            "25\n",
            "1.0\n",
            "25 25\n"
          ]
        }
      ]
    },
    {
      "cell_type": "markdown",
      "source": [
        "How many reserve keywords are there in python and why we should not use them as a variable name"
      ],
      "metadata": {
        "id": "gZ7TM9TXLIsj"
      }
    },
    {
      "cell_type": "code",
      "source": [
        "33 , We can't use reserve keywords because they are already used for some specific purpose."
      ],
      "metadata": {
        "id": "wXvhoMqfLEtp"
      },
      "execution_count": null,
      "outputs": []
    },
    {
      "cell_type": "code",
      "source": [
        "#Create email ids with the user inputs. in the following format\n",
        "\n",
        "first_n= input()\n",
        "second_n= input()\n",
        "\n",
        "print(f\"{second_n}.{first_n}@gmail.com\")"
      ],
      "metadata": {
        "colab": {
          "base_uri": "https://localhost:8080/"
        },
        "id": "0VYYQuAMLk0-",
        "outputId": "81982a1c-045c-4e25-f5d7-36c5b6200eca"
      },
      "execution_count": 28,
      "outputs": [
        {
          "output_type": "stream",
          "name": "stdout",
          "text": [
            "varish\n",
            "gautam\n",
            "gautam.varish@gmail.com\n"
          ]
        }
      ]
    },
    {
      "cell_type": "code",
      "source": [
        "# Try to print the following lines -\n",
        "\n",
        "#     Hi I'm Sunny\n",
        "#     My address is 22\\3\n",
        "#     I earn 20$ daily.\n",
        "\n",
        "print(\"Hi I'm Sunny\")\n",
        "print(\"My address is 22\\\\3\")\n",
        "print(\"I earn 20$ daily.\")\n"
      ],
      "metadata": {
        "colab": {
          "base_uri": "https://localhost:8080/"
        },
        "id": "3HtHlDUEMM6L",
        "outputId": "7223b250-0939-497f-f400-b14512c4a5d8"
      },
      "execution_count": 30,
      "outputs": [
        {
          "output_type": "stream",
          "name": "stdout",
          "text": [
            "Hi I'm Sunny\n",
            "My address is 22\\3\n",
            "I earn 20$ daily.\n"
          ]
        }
      ]
    },
    {
      "cell_type": "code",
      "source": [
        "#Take user input (name, address, date of birth etc) to fill a form for your college and print their email IDs\n",
        "\n",
        "form_name = input()\n",
        "form_add = input()\n",
        "form_dob = input()\n",
        "\n",
        "print(f\"{form_name}12{form_dob}{form_add}@gmail.com\")\n"
      ],
      "metadata": {
        "colab": {
          "base_uri": "https://localhost:8080/"
        },
        "id": "ZehSwkbsMfiI",
        "outputId": "3e9bfee3-cd13-4a19-a0d1-dcc72a4e6f79"
      },
      "execution_count": 31,
      "outputs": [
        {
          "output_type": "stream",
          "name": "stdout",
          "text": [
            "varish\n",
            "tejapiur\n",
            "05052001\n",
            "varish1205052001tejapiur@gmail.com\n"
          ]
        }
      ]
    },
    {
      "cell_type": "code",
      "source": [
        "# Convert the following -\n",
        "\n",
        "#     \"22.4\" into integer\n",
        "#     \"22\" into complex no.\n",
        "\n",
        "print(int(float(\"22.4\")))\n",
        "print(complex(int(22)))\n"
      ],
      "metadata": {
        "colab": {
          "base_uri": "https://localhost:8080/"
        },
        "id": "Mp53fubMNLwa",
        "outputId": "56955397-a74a-41a6-c03d-1c3a0850acc3"
      },
      "execution_count": 32,
      "outputs": [
        {
          "output_type": "stream",
          "name": "stdout",
          "text": [
            "22\n",
            "(22+0j)\n"
          ]
        }
      ]
    }
  ]
}