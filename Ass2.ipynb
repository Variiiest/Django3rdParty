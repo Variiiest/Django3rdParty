{
  "nbformat": 4,
  "nbformat_minor": 0,
  "metadata": {
    "colab": {
      "provenance": [],
      "authorship_tag": "ABX9TyMm68gRAo6ggGPq9ooMsSWK",
      "include_colab_link": true
    },
    "kernelspec": {
      "name": "python3",
      "display_name": "Python 3"
    },
    "language_info": {
      "name": "python"
    }
  },
  "cells": [
    {
      "cell_type": "markdown",
      "metadata": {
        "id": "view-in-github",
        "colab_type": "text"
      },
      "source": [
        "<a href=\"https://colab.research.google.com/github/Variiiest/Django3rdParty/blob/main/Ass2.ipynb\" target=\"_parent\"><img src=\"https://colab.research.google.com/assets/colab-badge.svg\" alt=\"Open In Colab\"/></a>"
      ]
    },
    {
      "cell_type": "markdown",
      "source": [
        "What is indentation error? Why indentation is important? Give one simple example?"
      ],
      "metadata": {
        "id": "jdaUHU8xnUvh"
      }
    },
    {
      "cell_type": "code",
      "execution_count": null,
      "metadata": {
        "id": "c4Yku4FMnTCW"
      },
      "outputs": [],
      "source": [
        "Indentaion Error is an error occured due to incorrect places of spaces . Indentation is important for code - readablity . "
      ]
    },
    {
      "cell_type": "code",
      "source": [
        "def src(index):\n",
        "return index\n",
        "\n",
        "print(src(2))"
      ],
      "metadata": {
        "colab": {
          "base_uri": "https://localhost:8080/",
          "height": 130
        },
        "id": "GaMMWbrOodJ2",
        "outputId": "b962c32f-03a7-4713-dad9-006464155b1c"
      },
      "execution_count": 1,
      "outputs": [
        {
          "output_type": "error",
          "ename": "IndentationError",
          "evalue": "ignored",
          "traceback": [
            "\u001b[0;36m  File \u001b[0;32m\"<ipython-input-1-732d67a6274f>\"\u001b[0;36m, line \u001b[0;32m2\u001b[0m\n\u001b[0;31m    return index\u001b[0m\n\u001b[0m         ^\u001b[0m\n\u001b[0;31mIndentationError\u001b[0m\u001b[0;31m:\u001b[0m expected an indented block\n"
          ]
        }
      ]
    },
    {
      "cell_type": "markdown",
      "source": [
        "Correct the following code and write the comment where you made the correction?"
      ],
      "metadata": {
        "id": "uySJ3TzgozQV"
      }
    },
    {
      "cell_type": "code",
      "source": [
        "class_started = int(input(\"Hey friend, is class started?: [0-False/1-True]\"))\n",
        "## Converted from bool to int\n",
        "\n",
        "\n",
        "if class_started:\n",
        "   print(\"Since class started...\")\n",
        "   print(\"Lets concentrate\")\n",
        "else:\n",
        "   print(\"Since class is not started...\")\n",
        "   print(\"let's revise\")  "
      ],
      "metadata": {
        "colab": {
          "base_uri": "https://localhost:8080/"
        },
        "id": "g4KCyEpyosO4",
        "outputId": "a43501b3-ab60-4da9-e541-06d74f0ed4ee"
      },
      "execution_count": 7,
      "outputs": [
        {
          "output_type": "stream",
          "name": "stdout",
          "text": [
            "Hey friend, is class started?: [0-False/1-True]1\n",
            "Since class started...\n",
            "Lets concentrate\n"
          ]
        }
      ]
    },
    {
      "cell_type": "markdown",
      "source": [
        "Use if else condition to verify that dataype of input() method in python is always string."
      ],
      "metadata": {
        "id": "06WAXmruqkLX"
      }
    },
    {
      "cell_type": "code",
      "source": [
        "class_started = input(\"Hey friend, is class started?: [0-False/1-True]\")\n",
        "## Compared to string \n",
        "\n",
        "\n",
        "if class_started == \"1\":\n",
        "   print(\"Since class started...\")\n",
        "   print(\"Lets concentrate\")\n",
        "else:\n",
        "   print(\"Since class is not started...\")\n",
        "   print(\"let's revise\")"
      ],
      "metadata": {
        "colab": {
          "base_uri": "https://localhost:8080/"
        },
        "id": "OpTGiDawqNFl",
        "outputId": "2ab1416f-958f-4533-9028-8b0cda07ab7c"
      },
      "execution_count": 9,
      "outputs": [
        {
          "output_type": "stream",
          "name": "stdout",
          "text": [
            "Hey friend, is class started?: [0-False/1-True]0\n",
            "Since class is not started...\n",
            "let's revise\n"
          ]
        }
      ]
    },
    {
      "cell_type": "markdown",
      "source": [
        "Take 3 variables and assign integer values to them. Find the largest variable, by only using the if and else conditions."
      ],
      "metadata": {
        "id": "83YBr013rUkT"
      }
    },
    {
      "cell_type": "code",
      "source": [
        "a, b, c = 3, 4, 13\n",
        "max = a\n",
        "if a > b and a > c:\n",
        "  max = a\n",
        "if c > a and c > b:\n",
        "  max = c\n",
        "else:\n",
        "  max = b\n",
        "print(c)\n"
      ],
      "metadata": {
        "colab": {
          "base_uri": "https://localhost:8080/"
        },
        "id": "pN5Gy8uurKVY",
        "outputId": "f9232cad-4146-40ac-b67d-285dd83857d3"
      },
      "execution_count": 15,
      "outputs": [
        {
          "output_type": "stream",
          "name": "stdout",
          "text": [
            "13\n"
          ]
        }
      ]
    },
    {
      "cell_type": "markdown",
      "source": [
        "What would be the solution?"
      ],
      "metadata": {
        "id": "M9x2GZubsmsU"
      }
    },
    {
      "cell_type": "code",
      "source": [
        "a = 6\n",
        "b = 10\n",
        "print( not ( not a == 10 or not b == 10) )"
      ],
      "metadata": {
        "colab": {
          "base_uri": "https://localhost:8080/"
        },
        "id": "C6pLfCPjsf4i",
        "outputId": "f7caae3b-f770-4354-9db3-b11bd4858bc9"
      },
      "execution_count": 16,
      "outputs": [
        {
          "output_type": "stream",
          "name": "stdout",
          "text": [
            "False\n"
          ]
        }
      ]
    },
    {
      "cell_type": "markdown",
      "source": [
        "\n",
        "```\n",
        "Find the answer as well as find out the reason behind the result? -\n",
        "\n",
        "case 1:\n",
        "  A = 5.0\n",
        "  B = 10/2\n",
        "  print(A is B)\n",
        "case 2:\n",
        "  A = 5.0\n",
        "  B = int(10/2)\n",
        "  print(A is B)\n",
        "case 3:\n",
        "  A = 5.0\n",
        "  B = float(10/2)\n",
        "  print(A is B)\n",
        "```"
      ],
      "metadata": {
        "id": "nK6DmVP7sxjW"
      }
    },
    {
      "cell_type": "code",
      "source": [
        "A = 5.0\n",
        "B = 10/2\n",
        "print(A is B)\n",
        "# False because Address of A is not same as B"
      ],
      "metadata": {
        "colab": {
          "base_uri": "https://localhost:8080/"
        },
        "id": "6gujx7Y6tHMZ",
        "outputId": "99100cb9-9e48-42b8-8358-7f57bbb9068d"
      },
      "execution_count": 17,
      "outputs": [
        {
          "output_type": "stream",
          "name": "stdout",
          "text": [
            "False\n"
          ]
        }
      ]
    },
    {
      "cell_type": "code",
      "source": [
        "A = 5.0\n",
        "B = int(10/2)\n",
        "print(A is B)\n",
        "# False because Address of A is not same as B"
      ],
      "metadata": {
        "colab": {
          "base_uri": "https://localhost:8080/"
        },
        "id": "k2PN2SCVtTbw",
        "outputId": "86f602f0-9032-4241-d7db-78b729009e9f"
      },
      "execution_count": 18,
      "outputs": [
        {
          "output_type": "stream",
          "name": "stdout",
          "text": [
            "False\n"
          ]
        }
      ]
    },
    {
      "cell_type": "code",
      "source": [
        "A = 5.0\n",
        "B = float(10/2)\n",
        "print(A is B)\n",
        "# False because Address of A is not same as B"
      ],
      "metadata": {
        "colab": {
          "base_uri": "https://localhost:8080/"
        },
        "id": "VQ5JNcmJtcIF",
        "outputId": "b56b5ea6-442c-4c3e-eb9f-c78cc43f897f"
      },
      "execution_count": 19,
      "outputs": [
        {
          "output_type": "stream",
          "name": "stdout",
          "text": [
            "False\n"
          ]
        }
      ]
    },
    {
      "cell_type": "markdown",
      "source": [
        "Write a program that asks the user to enter a number. You should print out a message to the user, either “That number is divisible by either 3 or 5”, or “That number is not divisible by either 3 or 5”. Be sure to consider the data type of the input you are taking in from the user. Use a single if/else block to solve this problem."
      ],
      "metadata": {
        "id": "Hrms2KNKuIIJ"
      }
    },
    {
      "cell_type": "code",
      "source": [
        "a =  int(input())\n",
        "if a % 3 == 0 or a % 5 == 0:\n",
        "  print(\"That number is divisible by either 3 or 5\")\n",
        "else: \n",
        "  print(\"That number is not divisible by either 3 or 5\")"
      ],
      "metadata": {
        "colab": {
          "base_uri": "https://localhost:8080/"
        },
        "id": "Fyyjmph-uKhh",
        "outputId": "1fbee509-a2da-4d51-ad8a-2139d18275f2"
      },
      "execution_count": 20,
      "outputs": [
        {
          "output_type": "stream",
          "name": "stdout",
          "text": [
            "52\n",
            "That number is not divisible by either 3 or 5\n"
          ]
        }
      ]
    },
    {
      "cell_type": "markdown",
      "source": [
        "Take user input for length and width. Then calculate the area of rectangle. Also print as per length and width whether its a square of rectangle."
      ],
      "metadata": {
        "id": "bMis58LXvuyn"
      }
    },
    {
      "cell_type": "code",
      "source": [
        "length = int(input(\"Length of rectangle : \"))\n",
        "width = int(input(\"Width of rectangle : \"))\n",
        "area = length * width \n",
        "print(\"Area:\", area)\n",
        "\n",
        "len_square = area**0.5\n",
        "print(\"Length of Square\", len_square)"
      ],
      "metadata": {
        "colab": {
          "base_uri": "https://localhost:8080/"
        },
        "id": "Apa0vxgfvq7d",
        "outputId": "c3682bf0-e97c-48b2-ace0-937b27f6f569"
      },
      "execution_count": 23,
      "outputs": [
        {
          "output_type": "stream",
          "name": "stdout",
          "text": [
            "Length of rectangle : 3\n",
            "Width of rectangle : 12\n",
            "Area: 36\n",
            "Length of Square 6.0\n"
          ]
        }
      ]
    },
    {
      "cell_type": "markdown",
      "source": [
        "Take two variable radius_1 and radius_2 and calculate the area of circle_1 and circle_2. Also print which circle has large area. If area is equal then print area is equal."
      ],
      "metadata": {
        "id": "_-jd-P8hwu5f"
      }
    },
    {
      "cell_type": "code",
      "source": [
        "radius_1 = int(input(\"Enter the first radius : \"))\n",
        "radius_2 = int(input(\"Enter the second radius : \"))\n",
        "\n",
        "area_1 = 3.14* radius_1* radius_1\n",
        "area_2 = 3.14* radius_2* radius_2\n",
        "\n",
        "if area_1 == area_2:\n",
        "  print(\"Area1 is equal to Area2\")\n",
        "else:\n",
        "  if area_1> area_2:\n",
        "    print(\"Area1 is greater to Area2\")\n",
        "  else:\n",
        "    print(\"Area2 is greater to Area1\")\n",
        "\n"
      ],
      "metadata": {
        "colab": {
          "base_uri": "https://localhost:8080/"
        },
        "id": "1UaSEtVwwud4",
        "outputId": "44499e11-c9a7-4d37-8bb3-a41b30aaa729"
      },
      "execution_count": 24,
      "outputs": [
        {
          "output_type": "stream",
          "name": "stdout",
          "text": [
            "Enter the first radius : 12\n",
            "Enter the second radius : 45\n",
            "Area2 is greater to Area1\n"
          ]
        }
      ]
    },
    {
      "cell_type": "markdown",
      "source": [
        "Check whether a year is leap year or not. Use nested if...else to solve this problem. A leap year is exactly divisible by 4 except for century years (years ending with 00). The century year is a leap year only if it is perfectly divisible by 400."
      ],
      "metadata": {
        "id": "MPtxf8TByCFY"
      }
    },
    {
      "cell_type": "code",
      "source": [
        "year = int(input(\"Enter the year :\"))\n",
        "\n",
        "if year % 4 == 0:\n",
        "  if year % 100 != 0 or year % 400 == 0 :\n",
        "    print(\"Leap Year\")\n",
        "  else:\n",
        "    print(\"Not leap year\")\n",
        "else:\n",
        "  print(\"Not leap year\")"
      ],
      "metadata": {
        "colab": {
          "base_uri": "https://localhost:8080/"
        },
        "id": "lYKbM6BUyBvU",
        "outputId": "65aff22e-4126-43c4-aebb-ca840b1aa084"
      },
      "execution_count": 26,
      "outputs": [
        {
          "output_type": "stream",
          "name": "stdout",
          "text": [
            "Enter the year :2012\n",
            "Leap Year\n"
          ]
        }
      ]
    }
  ]
}