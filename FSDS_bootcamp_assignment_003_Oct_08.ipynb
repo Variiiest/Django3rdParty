{
  "nbformat": 4,
  "nbformat_minor": 0,
  "metadata": {
    "colab": {
      "provenance": [],
      "collapsed_sections": [],
      "include_colab_link": true
    },
    "kernelspec": {
      "name": "python3",
      "display_name": "Python 3"
    },
    "language_info": {
      "name": "python"
    }
  },
  "cells": [
    {
      "cell_type": "markdown",
      "metadata": {
        "id": "view-in-github",
        "colab_type": "text"
      },
      "source": [
        "<a href=\"https://colab.research.google.com/github/Variiiest/Django3rdParty/blob/main/FSDS_bootcamp_assignment_003_Oct_08.ipynb\" target=\"_parent\"><img src=\"https://colab.research.google.com/assets/colab-badge.svg\" alt=\"Open In Colab\"/></a>"
      ]
    },
    {
      "cell_type": "markdown",
      "source": [
        "# ASSIGNMENTS - Compulsory\n",
        "## Send it before 0000 hrs IST or 12 AM Wednesday\n",
        "\n",
        "## NOTE: Evaluation will be done before next class.\n",
        "\n",
        "## HOW TO SUBMIT: -\n",
        "Download this notebook, Solve it and upload in the google form given in the mail."
      ],
      "metadata": {
        "id": "cyOfbWCdOjEr"
      }
    },
    {
      "cell_type": "markdown",
      "source": [
        "## Python String Manipulation\n",
        "\n",
        "1. Count the number of times `iNeuron` appears in the string.\n",
        "```python\n",
        "text = \"Welcome to iNeuron, You are a part of FSDS Bootcamp 2 in iNeuron. I hope you are enjoying the course by iNeuron\"\n",
        "```\n",
        "2. Check if position `5` to `11` ends with the phrase `iNeuron.` in the string \n",
        "```python\n",
        "txt = \"Hello, welcome to FSDS 2.0 at iNeuron.\"\n",
        "```\n",
        "3. Write a program that takes your full name as input and displays the abbreviations of the first and middle names except the last name which is displayed as it is. For example, if your name is Sunny Bhaveen Chandra, then the output should be S.B.Chandra.\n",
        "\n",
        "4. Join all items in a list into a string, using a hash(`#`) character as separator:\n",
        "```python\n",
        "LIST = [\"My\", \"name\", \"is\", \"Rishav\", \"Dash\"]\n",
        "```\n",
        "5. Write example for the following string manipulation function,\n",
        "\n",
        "  ```\n",
        "  - isdecimal()\n",
        "  - islower()\n",
        "  - isupper()\n",
        "  - isalpha()\n",
        "  - isnumeric()\n",
        "\n",
        "  ```\n",
        "6. Indian PAN card format follows the following formats - \n",
        "    - `AYEPC7894X`\n",
        "    - `ABCDE9999Y`\n",
        "  Take user input for PAN_CARD and validate as per the above example.\n"
      ],
      "metadata": {
        "id": "GT4IytkJMNa-"
      }
    },
    {
      "cell_type": "code",
      "source": [
        "##Count the number of times iNeuron appears in the string.\n",
        "\n",
        "text = \"Welcome to iNeuron, You are a part of FSDS Bootcamp 2 in iNeuron. I hope you are enjoying the course by iNeuron\"\n",
        "print(text.count(\"iNeuron\"))"
      ],
      "metadata": {
        "id": "kPEMTVFSyRv7",
        "outputId": "84ec3910-10ff-4641-be96-9a07627e2f9b",
        "colab": {
          "base_uri": "https://localhost:8080/"
        }
      },
      "execution_count": 1,
      "outputs": [
        {
          "output_type": "stream",
          "name": "stdout",
          "text": [
            "3\n"
          ]
        }
      ]
    },
    {
      "cell_type": "code",
      "source": [
        "#Check if position 5 to 11 ends with the phrase iNeuron. in the string\n",
        "\n",
        "txt = \"Hello, welcome to FSDS 2.0 at iNeuron.\"\n",
        "print(text[5:12].count(\"iNeuron\"))\n",
        "#0 Means iNeuron is not present"
      ],
      "metadata": {
        "id": "KwVni9gipNi-",
        "outputId": "846a98f4-0d17-4dc2-b7d7-466b9c4f44be",
        "colab": {
          "base_uri": "https://localhost:8080/"
        }
      },
      "execution_count": 2,
      "outputs": [
        {
          "output_type": "stream",
          "name": "stdout",
          "text": [
            "0\n"
          ]
        }
      ]
    },
    {
      "cell_type": "code",
      "source": [
        "#Write a program that takes your full name as input and displays the abbreviations\n",
        "# of the first and middle names except the last name which is displayed as it is. \n",
        "#For example, if your name is Sunny Bhaveen Chandra, then the output should be S.B.Chandra.\n",
        "\n",
        "name = input()\n",
        "name_list = name.split(\" \")\n",
        "\n",
        "for i in range(len(name_list)-1):\n",
        "  name_list[i]= name_list[i][0].upper()\n",
        "\n",
        "print(\".\".join(name_list))\n",
        "\n",
        "\n"
      ],
      "metadata": {
        "id": "AAYjo4w50KX1",
        "outputId": "fe428358-6430-46bd-90d8-0925d6a08a57",
        "colab": {
          "base_uri": "https://localhost:8080/"
        }
      },
      "execution_count": 5,
      "outputs": [
        {
          "output_type": "stream",
          "name": "stdout",
          "text": [
            "Sunny Bhaveen Chandra\n",
            "S.B.Chandra\n"
          ]
        }
      ]
    },
    {
      "cell_type": "code",
      "source": [
        "#Join all items in a list into a string, using a hash(#) character as separator:\n",
        "\n",
        "LIST = [\"My\", \"name\", \"is\", \"Rishav\", \"Dash\"]\n",
        "\n",
        "print(\"#\".join(LIST))"
      ],
      "metadata": {
        "id": "5nBRZiae2yoB",
        "outputId": "1728a376-59ee-4840-a7e7-d652b49cc3d8",
        "colab": {
          "base_uri": "https://localhost:8080/"
        }
      },
      "execution_count": 6,
      "outputs": [
        {
          "output_type": "stream",
          "name": "stdout",
          "text": [
            "My#name#is#Rishav#Dash\n"
          ]
        }
      ]
    },
    {
      "cell_type": "code",
      "source": [
        "#Write example for the following string manipulation function,\n",
        "\n",
        "#- isdecimal()\n",
        "\n",
        "decimal =\"\\u0033\"\n",
        "print(decimal.isdecimal())\n",
        "\n",
        "lower = \"asdfghjkl\"\n",
        "print(lower.islower())\n",
        "\n",
        "upper = \"ASDFGH\"\n",
        "print(upper.isupper())\n",
        "\n",
        "alpha= \"abcer\"\n",
        "print(alpha.isalpha())\n",
        "\n",
        "numeric= \"124435\"\n",
        "print(numeric.isnumeric())"
      ],
      "metadata": {
        "id": "s2nkRqn728v0",
        "outputId": "4c06b017-561e-4732-e767-07e1e4b691d3",
        "colab": {
          "base_uri": "https://localhost:8080/"
        }
      },
      "execution_count": 9,
      "outputs": [
        {
          "output_type": "stream",
          "name": "stdout",
          "text": [
            "True\n",
            "True\n",
            "True\n",
            "True\n",
            "True\n"
          ]
        }
      ]
    },
    {
      "cell_type": "code",
      "source": [
        "#Indian PAN card format follows the following formats -\n",
        "\n",
        "#AYEPC7894X\n",
        "#ABCDE9999Y Take user input for PAN_CARD and validate as per the above example.\n",
        "\n",
        "\n",
        "a= input()\n",
        "if len(a)==10:\n",
        "  first_f= a[0:5]\n",
        "  second_f= a[5:9]\n",
        "  if first_f.isalpha() and first_f.isupper() and second_f.isnumeric() and a[-1].isalpha():\n",
        "    print(\"OK\")\n",
        "  else:\n",
        "    print(\"NOT Ok\")\n",
        "else:\n",
        "  print(\"Not Ok\")\n",
        "    \n"
      ],
      "metadata": {
        "id": "H49HKRQ65csT",
        "outputId": "bb366305-e8ca-4982-db8e-3966a587ba99",
        "colab": {
          "base_uri": "https://localhost:8080/"
        }
      },
      "execution_count": 11,
      "outputs": [
        {
          "output_type": "stream",
          "name": "stdout",
          "text": [
            "ABCDE2324P\n",
            "OK\n"
          ]
        }
      ]
    }
  ]
}